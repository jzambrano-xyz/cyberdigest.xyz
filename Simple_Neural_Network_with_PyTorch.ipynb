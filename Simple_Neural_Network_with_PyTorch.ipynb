{
  "nbformat": 4,
  "nbformat_minor": 0,
  "metadata": {
    "colab": {
      "provenance": [],
      "authorship_tag": "ABX9TyMJ3oYQxcNB2pemoJOrsivc",
      "include_colab_link": true
    },
    "kernelspec": {
      "name": "python3",
      "display_name": "Python 3"
    },
    "language_info": {
      "name": "python"
    }
  },
  "cells": [
    {
      "cell_type": "markdown",
      "metadata": {
        "id": "view-in-github",
        "colab_type": "text"
      },
      "source": [
        "<a href=\"https://colab.research.google.com/github/jzambrano-xyz/cyberdigest.xyz/blob/main/Simple_Neural_Network_with_PyTorch.ipynb\" target=\"_parent\"><img src=\"https://colab.research.google.com/assets/colab-badge.svg\" alt=\"Open In Colab\"/></a>"
      ]
    },
    {
      "cell_type": "markdown",
      "source": [
        "# Simple Neural Network with **Pytorch**\n",
        "From Aymeric Damien via [GitHub](https://github.com/aymericdamien/TensorFlow-Examples/blob/master/tensorflow_v2/notebooks/3_NeuralNetworks/neural_network.ipynb)"
      ],
      "metadata": {
        "id": "K6v1h8J5h8AG"
      }
    },
    {
      "cell_type": "code",
      "execution_count": null,
      "metadata": {
        "id": "pVnMXdOWh0G-"
      },
      "outputs": [],
      "source": [
        "import torch\n",
        "import torch.nn as nn\n",
        "import torch.optim as optim\n",
        "import torchvision\n",
        "import torchvision.transforms as transforms\n",
        "from torch.utils.data import DataLoader"
      ]
    },
    {
      "cell_type": "code",
      "source": [
        "# MNIST dataset parameters.\n",
        "num_classes = 10 # total classes (0-9 digits).\n",
        "num_features = 784 # data features (img shape: 28*28)."
      ],
      "metadata": {
        "id": "Keth1GEjiE8h"
      },
      "execution_count": null,
      "outputs": []
    },
    {
      "cell_type": "code",
      "source": [
        "# Training parameters.\n",
        "learning_rate = 0.1\n",
        "training_steps = 2000\n",
        "batch_size = 256\n",
        "display_step = 100\n",
        "\n",
        "# Network parameters.\n",
        "n_hidden_1 = 128 # 1st layer number of neurons.\n",
        "n_hidden_2 = 256 # 2nd layer number of neurons."
      ],
      "metadata": {
        "id": "8XZG4nQGiH7G"
      },
      "execution_count": null,
      "outputs": []
    },
    {
      "cell_type": "code",
      "source": [
        "# Prepare MNIST data.\n",
        "transform = transforms.Compose([transforms.ToTensor(), transforms.Normalize((0.5,), (0.5,))])\n",
        "train_dataset = torchvision.datasets.MNIST(root='./data', train=True, transform=transform, download=True)\n",
        "test_dataset = torchvision.datasets.MNIST(root='./data', train=False, transform=transform, download=True)\n",
        "\n",
        "train_loader = DataLoader(dataset=train_dataset, batch_size=batch_size, shuffle=True)\n",
        "test_loader = DataLoader(dataset=test_dataset, batch_size=batch_size, shuffle=False)"
      ],
      "metadata": {
        "colab": {
          "base_uri": "https://localhost:8080/"
        },
        "id": "hlS28SvLiKAC",
        "outputId": "b4fe9f51-5f96-4f53-ee5b-6d42875756e2"
      },
      "execution_count": null,
      "outputs": [
        {
          "output_type": "stream",
          "name": "stdout",
          "text": [
            "Downloading http://yann.lecun.com/exdb/mnist/train-images-idx3-ubyte.gz\n",
            "Downloading http://yann.lecun.com/exdb/mnist/train-images-idx3-ubyte.gz to ./data/MNIST/raw/train-images-idx3-ubyte.gz\n"
          ]
        },
        {
          "output_type": "stream",
          "name": "stderr",
          "text": [
            "100%|██████████| 9912422/9912422 [00:00<00:00, 79760179.19it/s]\n"
          ]
        },
        {
          "output_type": "stream",
          "name": "stdout",
          "text": [
            "Extracting ./data/MNIST/raw/train-images-idx3-ubyte.gz to ./data/MNIST/raw\n",
            "\n",
            "Downloading http://yann.lecun.com/exdb/mnist/train-labels-idx1-ubyte.gz\n",
            "Downloading http://yann.lecun.com/exdb/mnist/train-labels-idx1-ubyte.gz to ./data/MNIST/raw/train-labels-idx1-ubyte.gz\n"
          ]
        },
        {
          "output_type": "stream",
          "name": "stderr",
          "text": [
            "100%|██████████| 28881/28881 [00:00<00:00, 73017295.86it/s]\n"
          ]
        },
        {
          "output_type": "stream",
          "name": "stdout",
          "text": [
            "Extracting ./data/MNIST/raw/train-labels-idx1-ubyte.gz to ./data/MNIST/raw\n",
            "\n",
            "Downloading http://yann.lecun.com/exdb/mnist/t10k-images-idx3-ubyte.gz\n",
            "Downloading http://yann.lecun.com/exdb/mnist/t10k-images-idx3-ubyte.gz to ./data/MNIST/raw/t10k-images-idx3-ubyte.gz\n"
          ]
        },
        {
          "output_type": "stream",
          "name": "stderr",
          "text": [
            "100%|██████████| 1648877/1648877 [00:00<00:00, 64217386.11it/s]"
          ]
        },
        {
          "output_type": "stream",
          "name": "stdout",
          "text": [
            "Extracting ./data/MNIST/raw/t10k-images-idx3-ubyte.gz to ./data/MNIST/raw\n"
          ]
        },
        {
          "output_type": "stream",
          "name": "stderr",
          "text": [
            "\n"
          ]
        },
        {
          "output_type": "stream",
          "name": "stdout",
          "text": [
            "\n",
            "Downloading http://yann.lecun.com/exdb/mnist/t10k-labels-idx1-ubyte.gz\n",
            "Downloading http://yann.lecun.com/exdb/mnist/t10k-labels-idx1-ubyte.gz to ./data/MNIST/raw/t10k-labels-idx1-ubyte.gz\n"
          ]
        },
        {
          "output_type": "stream",
          "name": "stderr",
          "text": [
            "100%|██████████| 4542/4542 [00:00<00:00, 14465093.98it/s]\n"
          ]
        },
        {
          "output_type": "stream",
          "name": "stdout",
          "text": [
            "Extracting ./data/MNIST/raw/t10k-labels-idx1-ubyte.gz to ./data/MNIST/raw\n",
            "\n"
          ]
        }
      ]
    },
    {
      "cell_type": "code",
      "source": [
        "# Create PyTorch Model.\n",
        "class NeuralNet(nn.Module):\n",
        "    def __init__(self):\n",
        "        super(NeuralNet, self).__init__()\n",
        "        self.fc1 = nn.Linear(num_features, n_hidden_1)\n",
        "        self.relu = nn.ReLU()\n",
        "        self.fc2 = nn.Linear(n_hidden_1, n_hidden_2)\n",
        "        self.out = nn.Linear(n_hidden_2, num_classes)\n",
        "\n",
        "    def forward(self, x):\n",
        "        x = self.fc1(x)\n",
        "        x = self.relu(x)\n",
        "        x = self.fc2(x)\n",
        "        x = self.relu(x)\n",
        "        return self.out(x)"
      ],
      "metadata": {
        "id": "7FfyNFU4iMYN"
      },
      "execution_count": null,
      "outputs": []
    },
    {
      "cell_type": "code",
      "source": [
        "# Build neural network model.\n",
        "neural_net = NeuralNet()\n",
        "\n",
        "# Loss and optimizer.\n",
        "criterion = nn.CrossEntropyLoss()\n",
        "optimizer = optim.SGD(neural_net.parameters(), lr=learning_rate)"
      ],
      "metadata": {
        "id": "NFYeo6JoiO86"
      },
      "execution_count": null,
      "outputs": []
    },
    {
      "cell_type": "code",
      "source": [
        "# Training loop with early stopping condition.\n",
        "for epoch in range(training_steps):\n",
        "    for i, (images, labels) in enumerate(train_loader):\n",
        "        # Forward pass.\n",
        "        outputs = neural_net(images.view(-1, 28*28))\n",
        "        loss = criterion(outputs, labels)\n",
        "\n",
        "        # Backward and optimize.\n",
        "        optimizer.zero_grad()\n",
        "        loss.backward()\n",
        "        optimizer.step()\n",
        "\n",
        "        if loss.item() < 0.0015:\n",
        "            print(f'Early stopping triggered at Epoch [{epoch + 1}/{training_steps}], Step [{i + 1}/{len(train_loader)}], Loss: {loss.item()}')\n",
        "            break  # Break out of the inner loop\n",
        "\n",
        "        if (i + 1) % display_step == 0:\n",
        "            print(f'Epoch [{epoch + 1}/{training_steps}], Step [{i + 1}/{len(train_loader)}], Loss: {loss.item()}')\n",
        "\n",
        "    if loss.item() < 0.0015:\n",
        "        break  # Break out of the outer loop to stop training\n"
      ],
      "metadata": {
        "colab": {
          "base_uri": "https://localhost:8080/"
        },
        "id": "eJh6-aZniSlq",
        "outputId": "a00f3157-b6a4-4cd2-baef-671c68031716"
      },
      "execution_count": null,
      "outputs": [
        {
          "output_type": "stream",
          "name": "stdout",
          "text": [
            "Epoch [1/2000], Step [100/235], Loss: 0.5011743903160095\n",
            "Epoch [1/2000], Step [200/235], Loss: 0.3470001816749573\n",
            "Epoch [2/2000], Step [100/235], Loss: 0.3941922187805176\n",
            "Epoch [2/2000], Step [200/235], Loss: 0.2926996350288391\n",
            "Epoch [3/2000], Step [100/235], Loss: 0.301177442073822\n",
            "Epoch [3/2000], Step [200/235], Loss: 0.15881939232349396\n",
            "Epoch [4/2000], Step [100/235], Loss: 0.14641879498958588\n",
            "Epoch [4/2000], Step [200/235], Loss: 0.21809698641300201\n",
            "Epoch [5/2000], Step [100/235], Loss: 0.12886320054531097\n",
            "Epoch [5/2000], Step [200/235], Loss: 0.15606963634490967\n",
            "Epoch [6/2000], Step [100/235], Loss: 0.11827632039785385\n",
            "Epoch [6/2000], Step [200/235], Loss: 0.13526831567287445\n",
            "Epoch [7/2000], Step [100/235], Loss: 0.14671218395233154\n",
            "Epoch [7/2000], Step [200/235], Loss: 0.1632440984249115\n",
            "Epoch [8/2000], Step [100/235], Loss: 0.13244830071926117\n",
            "Epoch [8/2000], Step [200/235], Loss: 0.08610974252223969\n",
            "Epoch [9/2000], Step [100/235], Loss: 0.09862031787633896\n",
            "Epoch [9/2000], Step [200/235], Loss: 0.08089971542358398\n",
            "Epoch [10/2000], Step [100/235], Loss: 0.11826799064874649\n",
            "Epoch [10/2000], Step [200/235], Loss: 0.10383466631174088\n",
            "Epoch [11/2000], Step [100/235], Loss: 0.10624004155397415\n",
            "Epoch [11/2000], Step [200/235], Loss: 0.07358202338218689\n",
            "Epoch [12/2000], Step [100/235], Loss: 0.06941539794206619\n",
            "Epoch [12/2000], Step [200/235], Loss: 0.07668522745370865\n",
            "Epoch [13/2000], Step [100/235], Loss: 0.04221230745315552\n",
            "Epoch [13/2000], Step [200/235], Loss: 0.09172602742910385\n",
            "Epoch [14/2000], Step [100/235], Loss: 0.0884614884853363\n",
            "Epoch [14/2000], Step [200/235], Loss: 0.05129922181367874\n",
            "Epoch [15/2000], Step [100/235], Loss: 0.04144876077771187\n",
            "Epoch [15/2000], Step [200/235], Loss: 0.09292641282081604\n",
            "Epoch [16/2000], Step [100/235], Loss: 0.02584613859653473\n",
            "Epoch [16/2000], Step [200/235], Loss: 0.06834527850151062\n",
            "Epoch [17/2000], Step [100/235], Loss: 0.05111860856413841\n",
            "Epoch [17/2000], Step [200/235], Loss: 0.05142593011260033\n",
            "Epoch [18/2000], Step [100/235], Loss: 0.06765122711658478\n",
            "Epoch [18/2000], Step [200/235], Loss: 0.04484729841351509\n",
            "Epoch [19/2000], Step [100/235], Loss: 0.053711872547864914\n",
            "Epoch [19/2000], Step [200/235], Loss: 0.04403127729892731\n",
            "Epoch [20/2000], Step [100/235], Loss: 0.030416974797844887\n",
            "Epoch [20/2000], Step [200/235], Loss: 0.044827114790678024\n",
            "Epoch [21/2000], Step [100/235], Loss: 0.032824721187353134\n",
            "Epoch [21/2000], Step [200/235], Loss: 0.04409084469079971\n",
            "Epoch [22/2000], Step [100/235], Loss: 0.07789407670497894\n",
            "Epoch [22/2000], Step [200/235], Loss: 0.0556504912674427\n",
            "Epoch [23/2000], Step [100/235], Loss: 0.01911730319261551\n",
            "Epoch [23/2000], Step [200/235], Loss: 0.04289287328720093\n",
            "Epoch [24/2000], Step [100/235], Loss: 1.6293423175811768\n",
            "Epoch [24/2000], Step [200/235], Loss: 0.6718524098396301\n",
            "Epoch [25/2000], Step [100/235], Loss: 0.383737713098526\n",
            "Epoch [25/2000], Step [200/235], Loss: 0.19255076348781586\n",
            "Epoch [26/2000], Step [100/235], Loss: 0.211013525724411\n",
            "Epoch [26/2000], Step [200/235], Loss: 0.11349181085824966\n",
            "Epoch [27/2000], Step [100/235], Loss: 0.1115906834602356\n",
            "Epoch [27/2000], Step [200/235], Loss: 0.17398998141288757\n",
            "Epoch [28/2000], Step [100/235], Loss: 0.110860176384449\n",
            "Epoch [28/2000], Step [200/235], Loss: 0.12255115807056427\n",
            "Epoch [29/2000], Step [100/235], Loss: 0.1361631155014038\n",
            "Epoch [29/2000], Step [200/235], Loss: 0.11523805558681488\n",
            "Epoch [30/2000], Step [100/235], Loss: 0.11666630208492279\n",
            "Epoch [30/2000], Step [200/235], Loss: 0.0717700719833374\n",
            "Epoch [31/2000], Step [100/235], Loss: 0.12342044711112976\n",
            "Epoch [31/2000], Step [200/235], Loss: 0.055743489414453506\n",
            "Epoch [32/2000], Step [100/235], Loss: 0.05296096205711365\n",
            "Epoch [32/2000], Step [200/235], Loss: 0.09798184037208557\n",
            "Epoch [33/2000], Step [100/235], Loss: 0.034811921417713165\n",
            "Epoch [33/2000], Step [200/235], Loss: 0.10655877739191055\n",
            "Epoch [34/2000], Step [100/235], Loss: 0.08397378772497177\n",
            "Epoch [34/2000], Step [200/235], Loss: 0.09392570704221725\n",
            "Epoch [35/2000], Step [100/235], Loss: 0.04422372952103615\n",
            "Epoch [35/2000], Step [200/235], Loss: 0.084998220205307\n",
            "Epoch [36/2000], Step [100/235], Loss: 0.08557982742786407\n",
            "Epoch [36/2000], Step [200/235], Loss: 0.09705988317728043\n",
            "Epoch [37/2000], Step [100/235], Loss: 0.0635790005326271\n",
            "Epoch [37/2000], Step [200/235], Loss: 0.04614546149969101\n",
            "Epoch [38/2000], Step [100/235], Loss: 0.07191501557826996\n",
            "Epoch [38/2000], Step [200/235], Loss: 0.04287100210785866\n",
            "Epoch [39/2000], Step [100/235], Loss: 0.06736236065626144\n",
            "Epoch [39/2000], Step [200/235], Loss: 0.03918850049376488\n",
            "Epoch [40/2000], Step [100/235], Loss: 0.049439605325460434\n",
            "Epoch [40/2000], Step [200/235], Loss: 0.09333254396915436\n",
            "Epoch [41/2000], Step [100/235], Loss: 0.06791899353265762\n",
            "Epoch [41/2000], Step [200/235], Loss: 0.05729091167449951\n",
            "Epoch [42/2000], Step [100/235], Loss: 0.06522882729768753\n",
            "Epoch [42/2000], Step [200/235], Loss: 0.03655526787042618\n",
            "Epoch [43/2000], Step [100/235], Loss: 0.07092104107141495\n",
            "Epoch [43/2000], Step [200/235], Loss: 0.08770421147346497\n",
            "Epoch [44/2000], Step [100/235], Loss: 0.04247647151350975\n",
            "Epoch [44/2000], Step [200/235], Loss: 1.0659458637237549\n",
            "Epoch [45/2000], Step [100/235], Loss: 0.2971121370792389\n",
            "Epoch [45/2000], Step [200/235], Loss: 0.21317213773727417\n",
            "Epoch [46/2000], Step [100/235], Loss: 0.15967407822608948\n",
            "Epoch [46/2000], Step [200/235], Loss: 0.2258693426847458\n",
            "Epoch [47/2000], Step [100/235], Loss: 0.12288934737443924\n",
            "Epoch [47/2000], Step [200/235], Loss: 0.14112481474876404\n",
            "Epoch [48/2000], Step [100/235], Loss: 0.14675088226795197\n",
            "Epoch [48/2000], Step [200/235], Loss: 0.10875298827886581\n",
            "Epoch [49/2000], Step [100/235], Loss: 0.1218661442399025\n",
            "Epoch [49/2000], Step [200/235], Loss: 0.10274749994277954\n",
            "Epoch [50/2000], Step [100/235], Loss: 0.09279584884643555\n",
            "Epoch [50/2000], Step [200/235], Loss: 0.08484304696321487\n",
            "Epoch [51/2000], Step [100/235], Loss: 0.06820552051067352\n",
            "Epoch [51/2000], Step [200/235], Loss: 0.07261635363101959\n",
            "Epoch [52/2000], Step [100/235], Loss: 0.07933866232633591\n",
            "Epoch [52/2000], Step [200/235], Loss: 0.050741370767354965\n",
            "Epoch [53/2000], Step [100/235], Loss: 0.10183452814817429\n",
            "Epoch [53/2000], Step [200/235], Loss: 0.07731577754020691\n",
            "Epoch [54/2000], Step [100/235], Loss: 0.04465273767709732\n",
            "Epoch [54/2000], Step [200/235], Loss: 0.07777852565050125\n",
            "Epoch [55/2000], Step [100/235], Loss: 0.07007665932178497\n",
            "Epoch [55/2000], Step [200/235], Loss: 0.11133936792612076\n",
            "Epoch [56/2000], Step [100/235], Loss: 0.07451500743627548\n",
            "Epoch [56/2000], Step [200/235], Loss: 0.116740882396698\n",
            "Epoch [57/2000], Step [100/235], Loss: 0.057007573544979095\n",
            "Epoch [57/2000], Step [200/235], Loss: 0.04733646288514137\n",
            "Epoch [58/2000], Step [100/235], Loss: 0.068972148001194\n",
            "Epoch [58/2000], Step [200/235], Loss: 0.07510451972484589\n",
            "Epoch [59/2000], Step [100/235], Loss: 0.09485126286745071\n",
            "Epoch [59/2000], Step [200/235], Loss: 0.06041550263762474\n",
            "Epoch [60/2000], Step [100/235], Loss: 0.060632821172475815\n",
            "Epoch [60/2000], Step [200/235], Loss: 0.08455463498830795\n",
            "Epoch [61/2000], Step [100/235], Loss: 0.05047233775258064\n",
            "Epoch [61/2000], Step [200/235], Loss: 0.06456278264522552\n",
            "Epoch [62/2000], Step [100/235], Loss: 0.04788888990879059\n",
            "Epoch [62/2000], Step [200/235], Loss: 0.05393015220761299\n",
            "Epoch [63/2000], Step [100/235], Loss: 0.04158991575241089\n",
            "Epoch [63/2000], Step [200/235], Loss: 0.05127938091754913\n",
            "Epoch [64/2000], Step [100/235], Loss: 0.06481814384460449\n",
            "Epoch [64/2000], Step [200/235], Loss: 0.024122707545757294\n",
            "Epoch [65/2000], Step [100/235], Loss: 0.038768548518419266\n",
            "Epoch [65/2000], Step [200/235], Loss: 0.03645115718245506\n",
            "Epoch [66/2000], Step [100/235], Loss: 0.015576321631669998\n",
            "Epoch [66/2000], Step [200/235], Loss: 0.026596112176775932\n",
            "Epoch [67/2000], Step [100/235], Loss: 0.021175161004066467\n",
            "Epoch [67/2000], Step [200/235], Loss: 0.059814050793647766\n",
            "Epoch [68/2000], Step [100/235], Loss: 0.021744970232248306\n",
            "Epoch [68/2000], Step [200/235], Loss: 0.04129432514309883\n",
            "Epoch [69/2000], Step [100/235], Loss: 0.019707586616277695\n",
            "Epoch [69/2000], Step [200/235], Loss: 0.051192812621593475\n",
            "Epoch [70/2000], Step [100/235], Loss: 0.05847977101802826\n",
            "Epoch [70/2000], Step [200/235], Loss: 0.0667877346277237\n",
            "Epoch [71/2000], Step [100/235], Loss: 0.027426209300756454\n",
            "Epoch [71/2000], Step [200/235], Loss: 0.03044002130627632\n",
            "Epoch [72/2000], Step [100/235], Loss: 0.07763785123825073\n",
            "Epoch [72/2000], Step [200/235], Loss: 0.04288018122315407\n",
            "Epoch [73/2000], Step [100/235], Loss: 0.015902845188975334\n",
            "Epoch [73/2000], Step [200/235], Loss: 0.048781830817461014\n",
            "Epoch [74/2000], Step [100/235], Loss: 0.02882898971438408\n",
            "Epoch [74/2000], Step [200/235], Loss: 0.05409076437354088\n",
            "Epoch [75/2000], Step [100/235], Loss: 0.04225322604179382\n",
            "Epoch [75/2000], Step [200/235], Loss: 0.016814781352877617\n",
            "Epoch [76/2000], Step [100/235], Loss: 0.037838272750377655\n",
            "Epoch [76/2000], Step [200/235], Loss: 0.02987193875014782\n",
            "Epoch [77/2000], Step [100/235], Loss: 0.02637336775660515\n",
            "Epoch [77/2000], Step [200/235], Loss: 0.0622115358710289\n",
            "Epoch [78/2000], Step [100/235], Loss: 0.025543540716171265\n",
            "Epoch [78/2000], Step [200/235], Loss: 0.029470469802618027\n",
            "Epoch [79/2000], Step [100/235], Loss: 0.025211382657289505\n",
            "Epoch [79/2000], Step [200/235], Loss: 0.07396363466978073\n",
            "Epoch [80/2000], Step [100/235], Loss: 0.03335178643465042\n",
            "Epoch [80/2000], Step [200/235], Loss: 0.03460989519953728\n",
            "Epoch [81/2000], Step [100/235], Loss: 0.024560896679759026\n",
            "Epoch [81/2000], Step [200/235], Loss: 0.02644631825387478\n",
            "Epoch [82/2000], Step [100/235], Loss: 0.025586765259504318\n",
            "Epoch [82/2000], Step [200/235], Loss: 0.027765735983848572\n",
            "Epoch [83/2000], Step [100/235], Loss: 0.01679711602628231\n",
            "Epoch [83/2000], Step [200/235], Loss: 0.0320858396589756\n",
            "Epoch [84/2000], Step [100/235], Loss: 0.03285578638315201\n",
            "Epoch [84/2000], Step [200/235], Loss: 0.015158295631408691\n",
            "Epoch [85/2000], Step [100/235], Loss: 0.02041788585484028\n",
            "Epoch [85/2000], Step [200/235], Loss: 0.010316167026758194\n",
            "Epoch [86/2000], Step [100/235], Loss: 0.06687986105680466\n",
            "Epoch [86/2000], Step [200/235], Loss: 0.024776281788945198\n",
            "Epoch [87/2000], Step [100/235], Loss: 0.019645841792225838\n",
            "Epoch [87/2000], Step [200/235], Loss: 0.04969232156872749\n",
            "Epoch [88/2000], Step [100/235], Loss: 0.022802630439400673\n",
            "Epoch [88/2000], Step [200/235], Loss: 0.011062521487474442\n",
            "Epoch [89/2000], Step [100/235], Loss: 0.014717723242938519\n",
            "Epoch [89/2000], Step [200/235], Loss: 0.026710446923971176\n",
            "Epoch [90/2000], Step [100/235], Loss: 0.016164761036634445\n",
            "Epoch [90/2000], Step [200/235], Loss: 0.020004579797387123\n",
            "Epoch [91/2000], Step [100/235], Loss: 0.010493172332644463\n",
            "Epoch [91/2000], Step [200/235], Loss: 0.01175926998257637\n",
            "Epoch [92/2000], Step [100/235], Loss: 0.024831438437104225\n",
            "Epoch [92/2000], Step [200/235], Loss: 0.012676939368247986\n",
            "Epoch [93/2000], Step [100/235], Loss: 0.005694741383194923\n",
            "Epoch [93/2000], Step [200/235], Loss: 0.017793569713830948\n",
            "Epoch [94/2000], Step [100/235], Loss: 0.017344841733574867\n",
            "Epoch [94/2000], Step [200/235], Loss: 0.014970071613788605\n",
            "Epoch [95/2000], Step [100/235], Loss: 0.015189786441624165\n",
            "Epoch [95/2000], Step [200/235], Loss: 0.009351631626486778\n",
            "Epoch [96/2000], Step [100/235], Loss: 0.018302228301763535\n",
            "Epoch [96/2000], Step [200/235], Loss: 0.01291515864431858\n",
            "Epoch [97/2000], Step [100/235], Loss: 0.00890847947448492\n",
            "Epoch [97/2000], Step [200/235], Loss: 0.013287234120070934\n",
            "Epoch [98/2000], Step [100/235], Loss: 0.003483639331534505\n",
            "Epoch [98/2000], Step [200/235], Loss: 0.018205543980002403\n",
            "Epoch [99/2000], Step [100/235], Loss: 0.009197287261486053\n",
            "Epoch [99/2000], Step [200/235], Loss: 0.019207097589969635\n",
            "Epoch [100/2000], Step [100/235], Loss: 0.004438635893166065\n",
            "Epoch [100/2000], Step [200/235], Loss: 0.013203646056354046\n",
            "Epoch [101/2000], Step [100/235], Loss: 0.01919683814048767\n",
            "Epoch [101/2000], Step [200/235], Loss: 0.024505972862243652\n",
            "Epoch [102/2000], Step [100/235], Loss: 0.013171087019145489\n",
            "Epoch [102/2000], Step [200/235], Loss: 0.012069945223629475\n",
            "Epoch [103/2000], Step [100/235], Loss: 0.008326038718223572\n",
            "Epoch [103/2000], Step [200/235], Loss: 0.010679023340344429\n",
            "Epoch [104/2000], Step [100/235], Loss: 0.006706590298563242\n",
            "Epoch [104/2000], Step [200/235], Loss: 0.007532709743827581\n",
            "Epoch [105/2000], Step [100/235], Loss: 0.01109971571713686\n",
            "Epoch [105/2000], Step [200/235], Loss: 0.012404585257172585\n",
            "Epoch [106/2000], Step [100/235], Loss: 0.010005573742091656\n",
            "Epoch [106/2000], Step [200/235], Loss: 0.007772136013954878\n",
            "Epoch [107/2000], Step [100/235], Loss: 0.012979798950254917\n",
            "Epoch [107/2000], Step [200/235], Loss: 0.0034197259228676558\n",
            "Epoch [108/2000], Step [100/235], Loss: 0.008227023296058178\n",
            "Epoch [108/2000], Step [200/235], Loss: 0.007227076217532158\n",
            "Epoch [109/2000], Step [100/235], Loss: 0.009977136738598347\n",
            "Epoch [109/2000], Step [200/235], Loss: 0.005159485619515181\n",
            "Epoch [110/2000], Step [100/235], Loss: 0.009377425536513329\n",
            "Epoch [110/2000], Step [200/235], Loss: 0.010382452048361301\n",
            "Epoch [111/2000], Step [100/235], Loss: 0.014843526296317577\n",
            "Epoch [111/2000], Step [200/235], Loss: 0.015085837803781033\n",
            "Early stopping triggered at Epoch [111/2000], Step [213/235], Loss: 0.0013128581922501326\n"
          ]
        }
      ]
    },
    {
      "cell_type": "code",
      "source": [
        "# Testing the Model\n",
        "def test_model(model, test_loader):\n",
        "    model.eval()  # Set the model to evaluation mode\n",
        "    correct = 0\n",
        "    total = 0\n",
        "    with torch.no_grad():\n",
        "        for images, labels in test_loader:\n",
        "            outputs = model(images.view(-1, 28*28))\n",
        "            _, predicted = torch.max(outputs.data, 1)\n",
        "            total += labels.size(0)\n",
        "            correct += (predicted == labels).sum().item()\n",
        "\n",
        "    accuracy = 100 * correct / total\n",
        "    print(f'Accuracy of the model on the test images: {accuracy}%')\n",
        "\n",
        "test_model(neural_net, test_loader)"
      ],
      "metadata": {
        "colab": {
          "base_uri": "https://localhost:8080/"
        },
        "id": "4g6bWT4lj60d",
        "outputId": "cc7dd214-0b71-4ab3-a0f0-68d742df825c"
      },
      "execution_count": null,
      "outputs": [
        {
          "output_type": "stream",
          "name": "stdout",
          "text": [
            "Accuracy of the model on the test images: 97.48%\n"
          ]
        }
      ]
    },
    {
      "cell_type": "code",
      "source": [
        "# Visualize predictions.\n",
        "import matplotlib.pyplot as plt\n",
        "import numpy as np\n",
        "\n",
        "def visualize_predictions(model, test_loader, num_images=5):\n",
        "    model.eval()\n",
        "    images, labels = next(iter(test_loader))\n",
        "    outputs = model(images.view(-1, 28*28))\n",
        "    _, predicted = torch.max(outputs, 1)\n",
        "    images = images.numpy()\n",
        "\n",
        "    fig = plt.figure(figsize=(10, 4))\n",
        "    for idx in range(num_images):\n",
        "        ax = fig.add_subplot(1, 5, idx+1, xticks=[], yticks=[])\n",
        "        ax.imshow(np.squeeze(images[idx]), cmap='gray')\n",
        "        ax.set_title(f\"Label: {labels[idx]} Predict: {predicted[idx]}\")\n",
        "    plt.show()\n",
        "\n",
        "visualize_predictions(neural_net, test_loader)"
      ],
      "metadata": {
        "colab": {
          "base_uri": "https://localhost:8080/",
          "height": 192
        },
        "id": "ia6XKHiAj9ZE",
        "outputId": "34013cf8-a7a3-4bb6-919f-cc5422e161e6"
      },
      "execution_count": null,
      "outputs": [
        {
          "output_type": "display_data",
          "data": {
            "text/plain": [
              "<Figure size 1000x400 with 5 Axes>"
            ],
            "image/png": "[encoded data removed]"
          },
          "metadata": {}
        }
      ]
    },
    {
      "cell_type": "code",
      "source": [
        "# Displaying Specific Images and Predictions\n",
        "def display_prediction(model, image, label):\n",
        "    model.eval()\n",
        "    output = model(image.view(-1, 28*28))\n",
        "    _, predicted = torch.max(output, 1)\n",
        "    plt.imshow(image.numpy().squeeze(), cmap='gray')\n",
        "    plt.title(f\"Label: {label} Predict: {predicted.item()}\")\n",
        "    plt.show()"
      ],
      "metadata": {
        "id": "5CkFjKbmrO6F"
      },
      "execution_count": null,
      "outputs": []
    },
    {
      "cell_type": "code",
      "source": [
        "# Displaying first 5 images from the test set\n",
        "for i in range(5):\n",
        "    display_prediction(neural_net, test_dataset[i][0], test_dataset[i][1])"
      ],
      "metadata": {
        "colab": {
          "base_uri": "https://localhost:8080/",
          "height": 1000
        },
        "id": "H_Zq-UMOkAKZ",
        "outputId": "1b2fb385-d414-40a0-a1b0-929bc4d078bf"
      },
      "execution_count": null,
      "outputs": [
        {
          "output_type": "display_data",
          "data": {
            "text/plain": [
              "<Figure size 640x480 with 1 Axes>"
            ],
            "image/png": "[encoded data removed]"
          },
          "metadata": {}
        },
        {
          "output_type": "display_data",
          "data": {
            "text/plain": [
              "<Figure size 640x480 with 1 Axes>"
            ],
            "image/png": "[encoded data removed]"
          },
          "metadata": {}
        },
        {
          "output_type": "display_data",
          "data": {
            "text/plain": [
              "<Figure size 640x480 with 1 Axes>"
            ],
            "image/png": "[encoded data removed]"
          },
          "metadata": {}
        },
        {
          "output_type": "display_data",
          "data": {
            "text/plain": [
              "<Figure size 640x480 with 1 Axes>"
            ],
            "image/png": "[encoded data removed]"
          },
          "metadata": {}
        },
        {
          "output_type": "display_data",
          "data": {
            "text/plain": [
              "<Figure size 640x480 with 1 Axes>"
            ],
            "image/png": "[encoded data removed]"
          },
          "metadata": {}
        }
      ]
    }
  ]
}